{
  "nbformat": 4,
  "nbformat_minor": 0,
  "metadata": {
    "colab": {
      "name": "[MODULE 1] Analysing real-life data from the Brazilian Public Health System.ipynb",
      "provenance": [],
      "authorship_tag": "ABX9TyM+sIFHXijvNV0p0MfUEV6F"
    },
    "kernelspec": {
      "name": "python3",
      "display_name": "Python 3"
    },
    "language_info": {
      "name": "python"
    }
  },
  "cells": [
    {
      "cell_type": "code",
      "metadata": {
        "id": "bT_7RYEoMR7Q"
      },
      "source": [
        "# test"
      ],
      "execution_count": null,
      "outputs": []
    }
  ]
}
